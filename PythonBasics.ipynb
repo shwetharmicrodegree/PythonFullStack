{
 "cells": [
  {
   "cell_type": "code",
   "execution_count": 1,
   "id": "c20a5e34-2e67-4bfc-b0e1-b43b6014282d",
   "metadata": {},
   "outputs": [
    {
     "name": "stdout",
     "output_type": "stream",
     "text": [
      "Hey\n"
     ]
    }
   ],
   "source": [
    "print(\"Hey\")"
   ]
  },
  {
   "cell_type": "code",
   "execution_count": 20,
   "id": "338d3974-6bf2-49c9-a4ad-4e204c8a776b",
   "metadata": {},
   "outputs": [
    {
     "name": "stdout",
     "output_type": "stream",
     "text": [
      "3\n",
      "Hey welcome!\n",
      "True\n",
      "False\n",
      "True\n"
     ]
    }
   ],
   "source": [
    "#int float  \n",
    "x = int(3)\n",
    "print(x)\n",
    "\n",
    "#string\n",
    "print(\"Hey welcome!\")\n",
    "\n",
    "#boolean(true or false)\n",
    "print(10 > 9)\n",
    "print(10 < 9)\n",
    "print(bool(\"Hello\"))"
   ]
  },
  {
   "cell_type": "code",
   "execution_count": 30,
   "id": "ccfe26b8-68f4-454c-a6e0-40d6a957f5ba",
   "metadata": {},
   "outputs": [
    {
     "name": "stdout",
     "output_type": "stream",
     "text": [
      "(100, 200, 300)\n",
      "(100, 200, 300, 400, 500)\n"
     ]
    }
   ],
   "source": [
    "#tuple\n",
    "#no updation immutable\n",
    "#brackets\n",
    "\n",
    "sampleT = (100,200,300,400,500)\n",
    "print(sampleT[0:3])\n",
    "print(sampleT)\n"
   ]
  },
  {
   "cell_type": "code",
   "execution_count": 32,
   "id": "9de1d980-e401-4d13-a744-130406eeeaec",
   "metadata": {},
   "outputs": [],
   "source": [
    "#list\n",
    "#mutable\n",
    "SampleL = [100, 200, 300,400,500]\n",
    "# print(SampleL)\n",
    "# print(SampleL[1])\n",
    "SampleL[0] = 500\n",
    "# print(SampleL[1:4])\n",
    "# print(SampleL[-1])\n"
   ]
  },
  {
   "cell_type": "code",
   "execution_count": 35,
   "id": "78ec36e9-d976-4abd-8731-64fa5f363f85",
   "metadata": {},
   "outputs": [
    {
     "name": "stdout",
     "output_type": "stream",
     "text": [
      "{200, 500, 300, 400}\n",
      "{8000, 200, 300, 400, 500}\n",
      "{8000, 200, 400, 500}\n"
     ]
    }
   ],
   "source": [
    "#set\n",
    "#mutable\n",
    "#no duplicate values (all elements are unique)\n",
    "sampleS = {200,300,500,400,400}\n",
    "print(sampleS)\n",
    "sampleS.add(8000)\n",
    "print(sampleS)\n",
    "sampleS.remove(300)\n",
    "print(sampleS)\n"
   ]
  },
  {
   "cell_type": "code",
   "execution_count": 41,
   "id": "afdea7e3-db4f-4fd9-972c-4ab56ecc1c3b",
   "metadata": {},
   "outputs": [
    {
     "name": "stdout",
     "output_type": "stream",
     "text": [
      "dict_keys(['a', 'b', 'c'])\n",
      "dict_values([100, 200, 300])\n",
      "{'a': 120, 'b': 200, 'c': 300}\n"
     ]
    }
   ],
   "source": [
    "#dictionary\n",
    "#key : value\n",
    "sampleD = {\"a\":100,\"b\":200,\"c\":300}\n",
    "print(sampleD.keys())\n",
    "print(sampleD.values())\n",
    "sampleD[\"a\"] = 120\n",
    "print(sampleD)"
   ]
  },
  {
   "cell_type": "code",
   "execution_count": 1,
   "id": "c07e5ff6-acf8-4d37-b30d-83d183ceae62",
   "metadata": {},
   "outputs": [
    {
     "name": "stdout",
     "output_type": "stream",
     "text": [
      "passed with Distinction\n"
     ]
    }
   ],
   "source": [
    "#conditonal statement\n",
    "marks = 90\n",
    "if marks >= 35 and marks < 65:\n",
    "    print(\"Passed\")\n",
    "elif marks > 65 and marks < 85:\n",
    "    print(\"passed with firstclass\")\n",
    "elif marks > 85:\n",
    "    print(\"passed with Distinction\")\n",
    "else:\n",
    "    print(\"fail\")"
   ]
  },
  {
   "cell_type": "code",
   "execution_count": 2,
   "id": "e018354f-ae8d-4de3-ad5f-6863a7b249c4",
   "metadata": {},
   "outputs": [
    {
     "name": "stdout",
     "output_type": "stream",
     "text": [
      "1\n",
      "2\n",
      "3\n",
      "4\n",
      "5\n",
      "6\n",
      "7\n"
     ]
    }
   ],
   "source": [
    "#loop\n",
    "#for , while loop\n",
    "a = [1,2,3,4,5,6,7]\n",
    "for element in a:\n",
    "    print(element)"
   ]
  },
  {
   "cell_type": "code",
   "execution_count": 6,
   "id": "14ed9cdf-b351-4023-8623-a3c93808eb5c",
   "metadata": {},
   "outputs": [
    {
     "name": "stdout",
     "output_type": "stream",
     "text": [
      "0\n",
      "1\n",
      "2\n",
      "3\n",
      "4\n",
      "5\n"
     ]
    }
   ],
   "source": [
    "for i in range(6):\n",
    "    print(i)"
   ]
  },
  {
   "cell_type": "code",
   "execution_count": 7,
   "id": "79023524-3d5c-4565-a787-0289f9270b5e",
   "metadata": {},
   "outputs": [
    {
     "name": "stdout",
     "output_type": "stream",
     "text": [
      "10\n",
      "12\n",
      "14\n",
      "16\n",
      "18\n"
     ]
    }
   ],
   "source": [
    "for i in range(10,20,2):\n",
    "    print(i)"
   ]
  },
  {
   "cell_type": "code",
   "execution_count": null,
   "id": "19975036-5b1c-4641-9e88-3b622b64bbac",
   "metadata": {},
   "outputs": [],
   "source": [
    "numbers = [10,20,30,40,50,\"Hey\"]\n",
    "for i in range(3,len(numbers),2):\n",
    "    print(numbers[i])"
   ]
  },
  {
   "cell_type": "code",
   "execution_count": null,
   "id": "09343b40-1c54-4e55-996d-e2c1be6cb35a",
   "metadata": {},
   "outputs": [],
   "source": [
    "#while loop\n",
    "abc = 0\n",
    "#condition\n",
    "while abc < 5:\n",
    "    #print\n",
    "    print(abc)\n",
    "    #iteration\n",
    "    abc+=1 \n"
   ]
  },
  {
   "cell_type": "code",
   "execution_count": 6,
   "id": "37d2ebf8-dfe3-4f2d-9355-95429962cd90",
   "metadata": {},
   "outputs": [
    {
     "name": "stdout",
     "output_type": "stream",
     "text": [
      "0\n",
      "1\n",
      "2\n",
      "3\n",
      "4\n"
     ]
    }
   ],
   "source": [
    "abc = 0\n",
    "#condition\n",
    "while abc < 8:\n",
    "    #print\n",
    "    print(abc)\n",
    "    #iteration\n",
    "    abc+=1 \n",
    "    if abc == 5:\n",
    "       break"
   ]
  },
  {
   "cell_type": "code",
   "execution_count": 9,
   "id": "0018cc59-6526-446e-b933-bb09e582edd3",
   "metadata": {},
   "outputs": [
    {
     "name": "stdout",
     "output_type": "stream",
     "text": [
      "[100, 200, 300, 400, 500]\n",
      "{100, 200, 300, 400, 500}\n",
      "(100, 200, 300, 400, 500)\n"
     ]
    }
   ],
   "source": [
    "SampleList = [100, 200, 300,400,500]\n",
    "print(SampleList)\n",
    "new_set =set(SampleList)\n",
    "print(new_set)\n",
    "new_tuple = tuple(SampleList)\n",
    "print(new_tuple)"
   ]
  },
  {
   "cell_type": "code",
   "execution_count": 12,
   "id": "67fe4448-c125-401a-983c-e7a708a53d06",
   "metadata": {},
   "outputs": [
    {
     "name": "stdout",
     "output_type": "stream",
     "text": [
      "hey\n"
     ]
    }
   ],
   "source": [
    "#function\n",
    "#block of code, it is called, pass data(parameters),return\n",
    "#reuse makes the code shorter\n",
    "def greet():\n",
    "    print(\"hey\")\n",
    "greet()"
   ]
  },
  {
   "cell_type": "code",
   "execution_count": 15,
   "id": "6340dae0-7939-4934-a66b-de9350f12e67",
   "metadata": {},
   "outputs": [
    {
     "name": "stdout",
     "output_type": "stream",
     "text": [
      "Hey Shwetha\n"
     ]
    }
   ],
   "source": [
    "def greet(name):\n",
    "    print(f\"Hey {name}\")\n",
    "greet(\"Shwetha\")"
   ]
  },
  {
   "cell_type": "code",
   "execution_count": 16,
   "id": "72efbabf-552a-4159-acb3-49f8b889156f",
   "metadata": {},
   "outputs": [
    {
     "name": "stdout",
     "output_type": "stream",
     "text": [
      "Hey Shwetha R\n",
      "Hey your email is shwetha@gmail.com\n"
     ]
    }
   ],
   "source": [
    "def greet(name,lname,email):\n",
    "    print(f\"Hey {name} {lname}\")\n",
    "    print(f\"Hey your email is {email}\")\n",
    "greet(\"Shwetha\",\"R\",\"shwetha@gmail.com\")"
   ]
  },
  {
   "cell_type": "code",
   "execution_count": 17,
   "id": "1370fc80-f1fc-4ef5-8269-bd5799dc2ec3",
   "metadata": {},
   "outputs": [
    {
     "name": "stdout",
     "output_type": "stream",
     "text": [
      "Hey Shwetha R\n",
      "Hey your email is shwetha@gmail.com\n"
     ]
    }
   ],
   "source": [
    "def greet(name,lname,email=\"shwetha@gmail.com\"):\n",
    "    print(f\"Hey {name} {lname}\")\n",
    "    print(f\"Hey your email is {email}\")\n",
    "greet(\"Shwetha\",\"R\")"
   ]
  },
  {
   "cell_type": "code",
   "execution_count": 18,
   "id": "81db46a9-9ca3-4dde-a46c-5524942af7be",
   "metadata": {},
   "outputs": [
    {
     "name": "stdout",
     "output_type": "stream",
     "text": [
      "Hey Shwetha R\n",
      "('87236782322',)\n"
     ]
    }
   ],
   "source": [
    "def greet(name,lname,*args):\n",
    "    print(f\"Hey {name} {lname}\")\n",
    "    print(f\"{args}\")\n",
    "greet(\"Shwetha\",\"R\",\"87236782322\")"
   ]
  },
  {
   "cell_type": "code",
   "execution_count": 20,
   "id": "f544ddda-2d14-4708-9501-1a87606c8894",
   "metadata": {},
   "outputs": [
    {
     "name": "stdout",
     "output_type": "stream",
     "text": [
      "Hey Shwetha R\n",
      "('87236782322',)\n",
      "{'phone': '76373434'}\n"
     ]
    }
   ],
   "source": [
    "def greet(name,lname,*args,**keyargs):\n",
    "    print(f\"Hey {name} {lname}\")\n",
    "    print(f\"{args}\")\n",
    "    print(f\"{keyargs}\")\n",
    "greet(\"Shwetha\",\"R\",\"87236782322\",phone=\"76373434\")"
   ]
  },
  {
   "cell_type": "code",
   "execution_count": 22,
   "id": "0b755358-16ad-4e38-9eb6-99c2eb4f3ff2",
   "metadata": {},
   "outputs": [
    {
     "data": {
      "text/plain": [
       "9"
      ]
     },
     "execution_count": 22,
     "metadata": {},
     "output_type": "execute_result"
    }
   ],
   "source": [
    "#function add\n",
    "def addition(a,b):\n",
    "    return a+b\n",
    "addition(4,5)"
   ]
  },
  {
   "cell_type": "code",
   "execution_count": 23,
   "id": "849bba40-e7d0-4be2-878b-8b617e46d011",
   "metadata": {},
   "outputs": [
    {
     "data": {
      "text/plain": [
       "25"
      ]
     },
     "execution_count": 23,
     "metadata": {},
     "output_type": "execute_result"
    }
   ],
   "source": [
    "def addition(a,b,*args):\n",
    "    sum = a+b\n",
    "    for items in args:\n",
    "        sum +=items\n",
    "    return sum\n",
    "addition(3,4,5,6,7,9,10,20)"
   ]
  },
  {
   "cell_type": "code",
   "execution_count": null,
   "id": "fbbe04f8-20a8-4708-bd8c-682510a19c1d",
   "metadata": {},
   "outputs": [],
   "source": []
  }
 ],
 "metadata": {
  "kernelspec": {
   "display_name": "Python 3 (ipykernel)",
   "language": "python",
   "name": "python3"
  },
  "language_info": {
   "codemirror_mode": {
    "name": "ipython",
    "version": 3
   },
   "file_extension": ".py",
   "mimetype": "text/x-python",
   "name": "python",
   "nbconvert_exporter": "python",
   "pygments_lexer": "ipython3",
   "version": "3.12.4"
  }
 },
 "nbformat": 4,
 "nbformat_minor": 5
}
